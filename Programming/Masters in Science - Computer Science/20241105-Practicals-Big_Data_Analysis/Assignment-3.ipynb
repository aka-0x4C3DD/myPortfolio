{
 "cells": [
  {
   "cell_type": "markdown",
   "metadata": {},
   "source": [
    "For this assignment, let's break down each task using Python. I’ll use the **Iris dataset** (available in the `seaborn` library) as an example dataset. Here’s how to accomplish each step."
   ]
  },
  {
   "cell_type": "markdown",
   "metadata": {},
   "source": [
    "### Step 1: Import Libraries and Load Dataset\n",
    "Let's start by importing the necessary libraries and loading the dataset."
   ]
  },
  {
   "cell_type": "code",
   "execution_count": 3,
   "metadata": {},
   "outputs": [],
   "source": [
    "import pandas as pd\n",
    "import numpy as np\n",
    "import seaborn as sns\n",
    "from scipy import stats\n",
    "from sklearn.linear_model import LinearRegression\n",
    "from sklearn.model_selection import train_test_split\n",
    "from sklearn.metrics import mean_squared_error, r2_score\n",
    "import matplotlib.pyplot as plt\n",
    "\n",
    "# Load the Iris dataset from seaborn\n",
    "df = sns.load_dataset(\"iris\")"
   ]
  },
  {
   "cell_type": "markdown",
   "metadata": {},
   "source": [
    "### Step 2: Summary Statistics Grouped by Categorical Variable\n",
    "We’ll provide summary statistics (mean, median, minimum, maximum, standard deviation) for one of the numeric variables grouped by the categorical variable `species`."
   ]
  },
  {
   "cell_type": "code",
   "execution_count": 4,
   "metadata": {},
   "outputs": [
    {
     "name": "stdout",
     "output_type": "stream",
     "text": [
      "Summary Statistics for Sepal Length grouped by Species:\n",
      "              mean  median  min  max       std\n",
      "species                                      \n",
      "setosa      5.006     5.0  4.3  5.8  0.352490\n",
      "versicolor  5.936     5.9  4.9  7.0  0.516171\n",
      "virginica   6.588     6.5  4.9  7.9  0.635880\n"
     ]
    }
   ],
   "source": [
    "# Grouping by 'species' and calculating summary statistics for 'sepal_length'\n",
    "grouped_stats = df.groupby('species')['sepal_length'].agg(['mean', 'median', 'min', 'max', 'std'])\n",
    "print(\"Summary Statistics for Sepal Length grouped by Species:\\n\", grouped_stats)"
   ]
  },
  {
   "cell_type": "markdown",
   "metadata": {},
   "source": [
    "### Step 3: Basic Statistical Details for Each Species\n",
    "Next, we’ll display additional details like percentiles, mean, and standard deviation for each species in the Iris dataset."
   ]
  },
  {
   "cell_type": "code",
   "execution_count": 5,
   "metadata": {},
   "outputs": [
    {
     "name": "stdout",
     "output_type": "stream",
     "text": [
      "Detailed Statistics for each Species:\n",
      "            sepal_length                                              \\\n",
      "                  count   mean       std  min    25%  50%  75%  max   \n",
      "species                                                               \n",
      "setosa             50.0  5.006  0.352490  4.3  4.800  5.0  5.2  5.8   \n",
      "versicolor         50.0  5.936  0.516171  4.9  5.600  5.9  6.3  7.0   \n",
      "virginica          50.0  6.588  0.635880  4.9  6.225  6.5  6.9  7.9   \n",
      "\n",
      "           sepal_width         ... petal_length      petal_width         \\\n",
      "                 count   mean  ...          75%  max       count   mean   \n",
      "species                        ...                                        \n",
      "setosa            50.0  3.428  ...        1.575  1.9        50.0  0.246   \n",
      "versicolor        50.0  2.770  ...        4.600  5.1        50.0  1.326   \n",
      "virginica         50.0  2.974  ...        5.875  6.9        50.0  2.026   \n",
      "\n",
      "                                               \n",
      "                 std  min  25%  50%  75%  max  \n",
      "species                                        \n",
      "setosa      0.105386  0.1  0.2  0.2  0.3  0.6  \n",
      "versicolor  0.197753  1.0  1.2  1.3  1.5  1.8  \n",
      "virginica   0.274650  1.4  1.8  2.0  2.3  2.5  \n",
      "\n",
      "[3 rows x 32 columns]\n"
     ]
    }
   ],
   "source": [
    "# Displaying statistical details for each species\n",
    "species_stats = df.groupby('species').describe(percentiles=[.25, .5, .75])[['sepal_length', 'sepal_width', 'petal_length', 'petal_width']]\n",
    "print(\"Detailed Statistics for each Species:\\n\", species_stats)"
   ]
  },
  {
   "cell_type": "markdown",
   "metadata": {},
   "source": [
    "### Step 4: Linear Regression with and without Box-Cox Transformation\n",
    "We’ll apply linear regression on the `sepal_length` (predictor) and `petal_length` (response) features and then apply the Box-Cox transformation on `sepal_length` to see if it improves the model."
   ]
  },
  {
   "cell_type": "markdown",
   "metadata": {},
   "source": [
    "#### Step 4.1: Linear Regression without Box-Cox Transformation"
   ]
  },
  {
   "cell_type": "code",
   "execution_count": 6,
   "metadata": {},
   "outputs": [
    {
     "name": "stdout",
     "output_type": "stream",
     "text": [
      "Linear Regression without Box-Cox Transformation:\n",
      "Mean Squared Error: 0.5960765879745186\n",
      "R^2 Score: 0.8181245472591437\n"
     ]
    }
   ],
   "source": [
    "# Define predictor and response variables\n",
    "X = df[['sepal_length']]\n",
    "y = df['petal_length']\n",
    "\n",
    "# Split the data\n",
    "X_train, X_test, y_train, y_test = train_test_split(X, y, test_size=0.2, random_state=42)\n",
    "\n",
    "# Initialize and fit the model\n",
    "model = LinearRegression()\n",
    "model.fit(X_train, y_train)\n",
    "\n",
    "# Make predictions and evaluate the model\n",
    "y_pred = model.predict(X_test)\n",
    "mse = mean_squared_error(y_test, y_pred)\n",
    "r2 = r2_score(y_test, y_pred)\n",
    "\n",
    "print(\"Linear Regression without Box-Cox Transformation:\")\n",
    "print(\"Mean Squared Error:\", mse)\n",
    "print(\"R^2 Score:\", r2)"
   ]
  },
  {
   "cell_type": "markdown",
   "metadata": {},
   "source": [
    "#### Explanation\n",
    "- **Predictor**: `sepal_length`\n",
    "- **Response**: `petal_length`\n",
    "- We split the data, fit a linear regression model, and then evaluate it using mean squared error (MSE) and R-squared (R²)."
   ]
  },
  {
   "cell_type": "markdown",
   "metadata": {},
   "source": [
    "#### Step 4.2: Applying Box-Cox Transformation and Linear Regression Again\n",
    "Box-Cox transformation requires positive data. To meet this, we add a small constant to `sepal_length` if necessary."
   ]
  },
  {
   "cell_type": "code",
   "execution_count": 7,
   "metadata": {},
   "outputs": [
    {
     "name": "stdout",
     "output_type": "stream",
     "text": [
      "Linear Regression with Box-Cox Transformation:\n",
      "Mean Squared Error: 0.5509436095494817\n",
      "R^2 Score: 0.8318955643569462\n"
     ]
    }
   ],
   "source": [
    "# Apply Box-Cox transformation to 'sepal_length'\n",
    "df['sepal_length_boxcox'], _ = stats.boxcox(df['sepal_length'] + 1)  # Adding 1 if there are zeroes\n",
    "\n",
    "# Redefine predictor with transformed data\n",
    "X_boxcox = df[['sepal_length_boxcox']]\n",
    "\n",
    "# Split the data\n",
    "X_train_boxcox, X_test_boxcox, y_train, y_test = train_test_split(X_boxcox, y, test_size=0.2, random_state=42)\n",
    "\n",
    "# Initialize and fit the model\n",
    "model_boxcox = LinearRegression()\n",
    "model_boxcox.fit(X_train_boxcox, y_train)\n",
    "\n",
    "# Make predictions and evaluate the model\n",
    "y_pred_boxcox = model_boxcox.predict(X_test_boxcox)\n",
    "mse_boxcox = mean_squared_error(y_test, y_pred_boxcox)\n",
    "r2_boxcox = r2_score(y_test, y_pred_boxcox)\n",
    "\n",
    "print(\"Linear Regression with Box-Cox Transformation:\")\n",
    "print(\"Mean Squared Error:\", mse_boxcox)\n",
    "print(\"R^2 Score:\", r2_boxcox)"
   ]
  },
  {
   "cell_type": "markdown",
   "metadata": {},
   "source": [
    "#### Explanation\n",
    "- We transformed `sepal_length` using the Box-Cox transformation and then repeated the linear regression.\n",
    "- This transformation helps in reducing skewness, which may improve the linearity between the predictor and response, potentially leading to better performance in regression.\n"
   ]
  },
  {
   "cell_type": "markdown",
   "metadata": {},
   "source": [
    "#### Step 4.3: Compare Results"
   ]
  },
  {
   "cell_type": "code",
   "execution_count": 8,
   "metadata": {},
   "outputs": [
    {
     "name": "stdout",
     "output_type": "stream",
     "text": [
      "Comparison of Results:\n",
      "Without Box-Cox Transformation: MSE = 0.5960765879745186 , R^2 = 0.8181245472591437\n",
      "With Box-Cox Transformation: MSE = 0.5509436095494817 , R^2 = 0.8318955643569462\n"
     ]
    }
   ],
   "source": [
    "print(\"Comparison of Results:\")\n",
    "print(\"Without Box-Cox Transformation: MSE =\", mse, \", R^2 =\", r2)\n",
    "print(\"With Box-Cox Transformation: MSE =\", mse_boxcox, \", R^2 =\", r2_boxcox)"
   ]
  },
  {
   "cell_type": "markdown",
   "metadata": {},
   "source": [
    "### Summary of Results\n",
    "- **Without Box-Cox**: MSE and R² values provide a baseline for the model.\n",
    "- **With Box-Cox**: If MSE decreases and R² increases, this suggests the Box-Cox transformation improved model performance by reducing skewness in `sepal_length`."
   ]
  }
 ],
 "metadata": {
  "kernelspec": {
   "display_name": "Python 3",
   "language": "python",
   "name": "python3"
  },
  "language_info": {
   "codemirror_mode": {
    "name": "ipython",
    "version": 3
   },
   "file_extension": ".py",
   "mimetype": "text/x-python",
   "name": "python",
   "nbconvert_exporter": "python",
   "pygments_lexer": "ipython3",
   "version": "3.13.0"
  }
 },
 "nbformat": 4,
 "nbformat_minor": 2
}
