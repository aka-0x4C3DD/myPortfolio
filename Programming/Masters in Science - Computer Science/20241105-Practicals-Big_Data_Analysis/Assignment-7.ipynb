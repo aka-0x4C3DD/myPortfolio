{
 "cells": [
  {
   "cell_type": "markdown",
   "metadata": {},
   "source": [
    "## Assignment 7 (Dimensionality Reduction)\n",
    "\n",
    "### 1. Principal Component Analysis (PCA) on mushrooms dataset\n",
    "Download the `mushrooms.csv` dataset from Kaggle, load it, and apply PCA.\n",
    "\n",
    "### 2. Linear Discriminant Analysis (LDA) on Iris dataset\n",
    "\n",
    "### Code:\n"
   ]
  },
  {
   "cell_type": "code",
   "execution_count": 1,
   "metadata": {},
   "outputs": [
    {
     "name": "stdout",
     "output_type": "stream",
     "text": [
      "PCA components (Mushrooms):\n",
      " [[ 2.19909523  0.88012809]\n",
      " [ 4.02701652 -0.98656675]\n",
      " [ 4.9279304  -0.37641626]\n",
      " [ 2.35969817  0.19230839]\n",
      " [ 3.07210802  0.80473886]]\n",
      "LDA components (Iris):\n",
      " [[ 8.0849532  -0.32845422]\n",
      " [ 7.1471629   0.75547326]\n",
      " [ 7.51137789  0.23807832]\n",
      " [ 6.83767561  0.64288476]\n",
      " [ 8.15781367 -0.54063935]]\n"
     ]
    }
   ],
   "source": [
    "import pandas as pd\n",
    "from sklearn.decomposition import PCA\n",
    "from sklearn.preprocessing import StandardScaler\n",
    "from sklearn.discriminant_analysis import LinearDiscriminantAnalysis as LDA\n",
    "\n",
    "# Load datasets\n",
    "mushrooms = pd.read_csv(r'F:\\myPortfolio\\Programming\\Masters in Science - Computer Science\\20241105-Practicals-Big_Data_Analysis\\mushrooms.csv')\n",
    "iris = pd.read_csv(r'F:\\myPortfolio\\Programming\\Masters in Science - Computer Science\\20241105-Practicals-Big_Data_Analysis\\iris\\Iris.csv').drop(columns=['Id'])\n",
    "\n",
    "# Preprocess mushrooms dataset (e.g., encoding)\n",
    "mushrooms_encoded = pd.get_dummies(mushrooms)\n",
    "\n",
    "# Standardize the data\n",
    "scaler = StandardScaler()\n",
    "mushrooms_scaled = scaler.fit_transform(mushrooms_encoded)\n",
    "\n",
    "# PCA on mushrooms dataset\n",
    "pca = PCA(n_components=2)\n",
    "mushrooms_pca = pca.fit_transform(mushrooms_scaled)\n",
    "print(\"PCA components (Mushrooms):\\n\", mushrooms_pca[:5])\n",
    "\n",
    "# LDA on Iris dataset\n",
    "X_iris = iris.drop('Species', axis=1)\n",
    "y_iris = iris['Species'].astype('category').cat.codes\n",
    "lda = LDA(n_components=2)\n",
    "iris_lda = lda.fit_transform(X_iris, y_iris)\n",
    "print(\"LDA components (Iris):\\n\", iris_lda[:5])\n"
   ]
  },
  {
   "cell_type": "markdown",
   "metadata": {},
   "source": [
    "### Explanation:\n",
    "1. **PCA** reduces mushrooms dataset dimensions to 2.\n",
    "2. **LDA** on Iris dataset to maximize separation between species.\n"
   ]
  }
 ],
 "metadata": {
  "kernelspec": {
   "display_name": "Python 3",
   "language": "python",
   "name": "python3"
  },
  "language_info": {
   "codemirror_mode": {
    "name": "ipython",
    "version": 3
   },
   "file_extension": ".py",
   "mimetype": "text/x-python",
   "name": "python",
   "nbconvert_exporter": "python",
   "pygments_lexer": "ipython3",
   "version": "3.13.0"
  }
 },
 "nbformat": 4,
 "nbformat_minor": 2
}
