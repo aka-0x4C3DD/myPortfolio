{
 "cells": [
  {
   "cell_type": "markdown",
   "metadata": {},
   "source": [
    "## Assignment 8 (Classification and Clustering)\n",
    "\n",
    "### 1. Import Iris dataset\n",
    "\n",
    "### 2. Apply Classification Algorithms: Naive Bayes and K-Nearest Neighbors (K-NN)\n",
    "\n",
    "### 3. Apply Clustering Algorithm: K-Means\n",
    "\n",
    "### Code:"
   ]
  },
  {
   "cell_type": "code",
   "execution_count": 2,
   "metadata": {},
   "outputs": [
    {
     "name": "stdout",
     "output_type": "stream",
     "text": [
      "Classification Results:\n",
      "Naive Bayes Accuracy: 0.9778\n",
      "K-NN Accuracy: 1.0000\n",
      "\n",
      "Clustering Results:\n",
      "K-Means Silhouette Score: 0.5512\n",
      "\n",
      "K-Means Silhouette Scores for different K:\n",
      "K=2: 0.6810\n",
      "K=3: 0.5512\n",
      "K=4: 0.4976\n",
      "K=5: 0.4931\n"
     ]
    }
   ],
   "source": [
    "from sklearn.datasets import load_iris\n",
    "from sklearn.model_selection import train_test_split\n",
    "from sklearn.naive_bayes import GaussianNB\n",
    "from sklearn.neighbors import KNeighborsClassifier\n",
    "from sklearn.cluster import KMeans\n",
    "from sklearn.metrics import accuracy_score, silhouette_score\n",
    "import numpy as np\n",
    "\n",
    "def evaluate_classifiers_and_clustering():\n",
    "    # Load IRIS dataset\n",
    "    iris = load_iris()\n",
    "    X = iris.data\n",
    "    y = iris.target\n",
    "    \n",
    "    # Split the data\n",
    "    X_train, X_test, y_train, y_test = train_test_split(X, y, test_size=0.3, random_state=42)\n",
    "    \n",
    "    # 1. Naive Bayes Classifier\n",
    "    nb_classifier = GaussianNB()\n",
    "    nb_classifier.fit(X_train, y_train)\n",
    "    nb_predictions = nb_classifier.predict(X_test)\n",
    "    nb_accuracy = accuracy_score(y_test, nb_predictions)\n",
    "    \n",
    "    # 2. K-Nearest Neighbor\n",
    "    knn_classifier = KNeighborsClassifier(n_neighbors=3)\n",
    "    knn_classifier.fit(X_train, y_train)\n",
    "    knn_predictions = knn_classifier.predict(X_test)\n",
    "    knn_accuracy = accuracy_score(y_test, knn_predictions)\n",
    "    \n",
    "    # 3. K-Means Clustering\n",
    "    kmeans = KMeans(n_clusters=3, random_state=42)\n",
    "    kmeans.fit(X)\n",
    "    kmeans_labels = kmeans.labels_\n",
    "    \n",
    "    # Calculate silhouette score for K-Means\n",
    "    silhouette_avg = silhouette_score(X, kmeans_labels)\n",
    "    \n",
    "    # Print results\n",
    "    print(\"Classification Results:\")\n",
    "    print(f\"Naive Bayes Accuracy: {nb_accuracy:.4f}\")\n",
    "    print(f\"K-NN Accuracy: {knn_accuracy:.4f}\")\n",
    "    \n",
    "    print(\"\\nClustering Results:\")\n",
    "    print(f\"K-Means Silhouette Score: {silhouette_avg:.4f}\")\n",
    "    \n",
    "    # Additional analysis: Find optimal K for K-Means\n",
    "    silhouette_scores = []\n",
    "    K = range(2, 6)\n",
    "    \n",
    "    for k in K:\n",
    "        kmeans = KMeans(n_clusters=k, random_state=42)\n",
    "        kmeans.fit(X)\n",
    "        silhouette_scores.append(silhouette_score(X, kmeans.labels_))\n",
    "    \n",
    "    print(\"\\nK-Means Silhouette Scores for different K:\")\n",
    "    for k, score in zip(K, silhouette_scores):\n",
    "        print(f\"K={k}: {score:.4f}\")\n",
    "\n",
    "if __name__ == \"__main__\":\n",
    "    evaluate_classifiers_and_clustering()"
   ]
  },
  {
   "cell_type": "markdown",
   "metadata": {},
   "source": [
    "### Explanation:\n",
    "1. **Naive Bayes** and **K-NN** classifiers are applied to the Iris dataset, and accuracy is calculated for each.\n",
    "2. **K-Means** clustering groups the data into 3 clusters, representing the 3 Iris species."
   ]
  }
 ],
 "metadata": {
  "kernelspec": {
   "display_name": "Python 3",
   "language": "python",
   "name": "python3"
  },
  "language_info": {
   "codemirror_mode": {
    "name": "ipython",
    "version": 3
   },
   "file_extension": ".py",
   "mimetype": "text/x-python",
   "name": "python",
   "nbconvert_exporter": "python",
   "pygments_lexer": "ipython3",
   "version": "3.13.0"
  }
 },
 "nbformat": 4,
 "nbformat_minor": 2
}
