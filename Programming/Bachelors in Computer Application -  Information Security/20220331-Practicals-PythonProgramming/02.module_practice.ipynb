{
 "cells": [
  {
   "cell_type": "code",
   "execution_count": 5,
   "metadata": {},
   "outputs": [
    {
     "name": "stdout",
     "output_type": "stream",
     "text": [
      "drWolH\n"
     ]
    }
   ],
   "source": [
    "st=\"Hello World\"\n",
    "print(st[::-2])"
   ]
  },
  {
   "cell_type": "code",
   "execution_count": 6,
   "metadata": {},
   "outputs": [
    {
     "ename": "TypeError",
     "evalue": "'str' object does not support item assignment",
     "output_type": "error",
     "traceback": [
      "\u001b[1;31m---------------------------------------------------------------------------\u001b[0m",
      "\u001b[1;31mTypeError\u001b[0m                                 Traceback (most recent call last)",
      "\u001b[1;32mc:\\Users\\0x4C3DD\\Desktop\\Codes\\Sem4_MAIS\\PP\\01.ipynb Cell 2'\u001b[0m in \u001b[0;36m<module>\u001b[1;34m\u001b[0m\n\u001b[0;32m      <a href='vscode-notebook-cell:/c%3A/Users/0x4C3DD/Desktop/Codes/Sem4_MAIS/PP/01.ipynb#ch0000001?line=0'>1</a>\u001b[0m st\u001b[39m=\u001b[39m\u001b[39m\"\u001b[39m\u001b[39mHello World\u001b[39m\u001b[39m\"\u001b[39m\n\u001b[1;32m----> <a href='vscode-notebook-cell:/c%3A/Users/0x4C3DD/Desktop/Codes/Sem4_MAIS/PP/01.ipynb#ch0000001?line=1'>2</a>\u001b[0m st[\u001b[39m3\u001b[39m]\u001b[39m=\u001b[39m\u001b[39m'\u001b[39m\u001b[39mt\u001b[39m\u001b[39m'\u001b[39m\n",
      "\u001b[1;31mTypeError\u001b[0m: 'str' object does not support item assignment"
     ]
    }
   ],
   "source": [
    "st=\"Hello World\"\n",
    "st[3]='t'"
   ]
  },
  {
   "cell_type": "code",
   "execution_count": 14,
   "metadata": {},
   "outputs": [
    {
     "name": "stdout",
     "output_type": "stream",
     "text": [
      "hello\n",
      "HELLO\n",
      "2\n",
      "       hello        \n"
     ]
    }
   ],
   "source": [
    "st=\"HELLO\"\n",
    "st1=st.lower()\n",
    "print(st1)\n",
    "print(st)\n",
    "print(st1.count(\"l\"))\n",
    "print(st1.center(20))"
   ]
  },
  {
   "cell_type": "code",
   "execution_count": 15,
   "metadata": {},
   "outputs": [
    {
     "name": "stdout",
     "output_type": "stream",
     "text": [
      "['Hello', ' World!']\n"
     ]
    }
   ],
   "source": [
    "a = \"Hello, World!\"\n",
    "print(a.split(\",\"))"
   ]
  },
  {
   "cell_type": "code",
   "execution_count": 18,
   "metadata": {},
   "outputs": [
    {
     "name": "stdout",
     "output_type": "stream",
     "text": [
      "I want to pay 49.95 dollars for 3 pieces of item 567.\n"
     ]
    }
   ],
   "source": [
    "quantity = 3\n",
    "itemno = 567\n",
    "price = 49.95\n",
    "myorder = \"I want to pay {2} dollars for {0} pieces of item {1}.\"\n",
    "print(myorder.format(quantity, itemno, price))"
   ]
  },
  {
   "cell_type": "code",
   "execution_count": 20,
   "metadata": {},
   "outputs": [
    {
     "name": "stdout",
     "output_type": "stream",
     "text": [
      "7\n",
      "-1\n"
     ]
    }
   ],
   "source": [
    "#Where in the text is the word \"welcome\"?:\n",
    "txt = \"Hello, welcome to my world.\"\n",
    "x = txt.find(\"welcome\")\n",
    "print(x)\n",
    "print(txt.find(\"utsav\"))"
   ]
  },
  {
   "cell_type": "code",
   "execution_count": 22,
   "metadata": {},
   "outputs": [
    {
     "name": "stdout",
     "output_type": "stream",
     "text": [
      "H\te\tl\tl\to\n",
      "H       e       l       l       o\n",
      "Hello\n",
      "H e l l o\n",
      "H e l l o\n",
      "H   e   l   l   o\n",
      "H         e         l         l         o\n"
     ]
    }
   ],
   "source": [
    "txt = \"H\\te\\tl\\tl\\to\"\n",
    "print(txt)\n",
    "print(txt.expandtabs())\n",
    "print(txt.expandtabs(0))\n",
    "print(txt.expandtabs(1))\n",
    "print(txt.expandtabs(2))\n",
    "print(txt.expandtabs(4))\n",
    "print(txt.expandtabs(10))"
   ]
  },
  {
   "cell_type": "code",
   "execution_count": 41,
   "metadata": {},
   "outputs": [
    {
     "name": "stdout",
     "output_type": "stream",
     "text": [
      "['python']\n",
      "Yes, there is at least one match!\n"
     ]
    }
   ],
   "source": [
    "import re\n",
    "\n",
    "txt = \"This is my class python\"\n",
    "\n",
    "#Check if the string contains\n",
    "\n",
    "x=re.findall(\"python\\Z\",txt) #returns a list containing the matched pattern at the end of the string\n",
    "\n",
    "print(x)\n",
    "\n",
    "if x:\n",
    "  print(\"Yes, there is at least one match!\")\n",
    "else:\n",
    "  print(\"No match\")\n"
   ]
  },
  {
   "cell_type": "code",
   "execution_count": 28,
   "metadata": {},
   "outputs": [
    {
     "name": "stdout",
     "output_type": "stream",
     "text": [
      "['This']\n",
      "Yes, there is at least one match!\n"
     ]
    }
   ],
   "source": [
    "import re\n",
    "\n",
    "txt = \"This this is my class python\"\n",
    "\n",
    "#Check if the string contains\n",
    "\n",
    "x=re.findall(\"This\",txt) #returns a list containing the matched pattern at the beginning of the string\n",
    "\n",
    "print(x)\n",
    "\n",
    "if x:\n",
    "  print(\"Yes, there is at least one match!\")\n",
    "else:\n",
    "  print(\"No match\")\n"
   ]
  },
  {
   "cell_type": "code",
   "execution_count": 33,
   "metadata": {},
   "outputs": [
    {
     "name": "stdout",
     "output_type": "stream",
     "text": [
      "[]\n",
      "['la', 'la']\n",
      "No match\n",
      "Yes, there is at least one match!\n"
     ]
    }
   ],
   "source": [
    "import re\n",
    "\n",
    "txt = \"The cla in allclaaa\"\n",
    "\n",
    "x = re.findall(r\"\\bla\", txt) #Check if \"la\" is present at the beginning of a WORD:\n",
    "x1 = re.findall(\"la\", txt) #Check if \"la\" is not present at the beginning of a WORD:\n",
    "\n",
    "print(x)\n",
    "print(x1)\n",
    "if x:\n",
    "  print(\"Yes, there is at least one match!\")\n",
    "else:\n",
    "  print(\"No match\")\n",
    "\n",
    "if x1:\n",
    "    print(\"Yes, there is at least one match!\")\n",
    "else:\n",
    "    print(\"No match\")\n"
   ]
  },
  {
   "cell_type": "code",
   "execution_count": 37,
   "metadata": {},
   "outputs": [
    {
     "name": "stdout",
     "output_type": "stream",
     "text": [
      "<re.Match object; span=(0, 6), match='Cookie'>\n",
      "Match!\n"
     ]
    }
   ],
   "source": [
    "import re\n",
    "pattern = \"Cookie\"\n",
    "sequence = \"Cookie\"\n",
    "\n",
    "#prints match if the pattern is found at the beginning of the sequence\n",
    "\n",
    "x=re.match(pattern,sequence)\n",
    "print(x)\n",
    "\n",
    "if x:\n",
    "      print(\"Match!\")\n",
    "\n",
    "else:\n",
    "\tprint(\"Not a match!\")\n"
   ]
  },
  {
   "cell_type": "code",
   "execution_count": 40,
   "metadata": {},
   "outputs": [
    {
     "name": "stdout",
     "output_type": "stream",
     "text": [
      "<re.Match object; span=(1, 9), match='98016 35'>\n",
      "98016 35\n"
     ]
    }
   ],
   "source": [
    "import re\n",
    "string = '398016 356, 2102 1111'\n",
    "# Five digit number followed by space followed by two digit number\n",
    "pattern = '(\\d{5}) (\\d{2})'\n",
    "# match variable contains a Match object.\n",
    "match = re.search(pattern,string)\n",
    "print(match)\n",
    "if match:\n",
    "  print(match.group())\n",
    "else:\n",
    "  print(\"pattern not found\")\n"
   ]
  },
  {
   "cell_type": "code",
   "execution_count": 42,
   "metadata": {},
   "outputs": [
    {
     "name": "stdout",
     "output_type": "stream",
     "text": [
      "(12, 17)\n"
     ]
    }
   ],
   "source": [
    "import re\n",
    "#Search for an upper case \"S\" character in the beginning of a word, and print its position:\n",
    "txt = \"The rain in Spain\"\n",
    "x = re.search(r\"\\bS\\w+\", txt)\n",
    "print(x.span())\n"
   ]
  },
  {
   "cell_type": "code",
   "execution_count": 2,
   "metadata": {},
   "outputs": [
    {
     "name": "stdout",
     "output_type": "stream",
     "text": [
      "      test\n"
     ]
    }
   ],
   "source": [
    "print('{:>10}'.format('test'))"
   ]
  },
  {
   "cell_type": "code",
   "execution_count": 43,
   "metadata": {},
   "outputs": [
    {
     "name": "stdout",
     "output_type": "stream",
     "text": [
      "I like apples\n"
     ]
    }
   ],
   "source": [
    "txt= \"I like bananas\"\n",
    "x = txt.replace(\"bananas\", \"apples\")\n",
    "print(x)"
   ]
  },
  {
   "cell_type": "code",
   "execution_count": 44,
   "metadata": {},
   "outputs": [
    {
     "name": "stdout",
     "output_type": "stream",
     "text": [
      "three three was a race horse, two two was one too\n"
     ]
    }
   ],
   "source": [
    "txt= \"one one was a race horse, two two was one too\"\n",
    "x = txt.replace(\"one\", \"three\", 2)\n",
    "print(x)"
   ]
  },
  {
   "cell_type": "code",
   "execution_count": 45,
   "metadata": {},
   "outputs": [
    {
     "name": "stdout",
     "output_type": "stream",
     "text": [
      "['apple', 'banana', 'cherry']\n"
     ]
    }
   ],
   "source": [
    "txt = \"apple, banana, cherry\"\n",
    "x = txt.rsplit(\", \")\n",
    "print(x)"
   ]
  },
  {
   "cell_type": "code",
   "execution_count": 46,
   "metadata": {},
   "outputs": [
    {
     "name": "stdout",
     "output_type": "stream",
     "text": [
      "['welcome', 'to', 'the', 'jungle']\n"
     ]
    }
   ],
   "source": [
    "txt = \"welcome to the jungle\"\n",
    "x = txt.split()\n",
    "print(x)"
   ]
  },
  {
   "cell_type": "code",
   "execution_count": 47,
   "metadata": {},
   "outputs": [
    {
     "name": "stdout",
     "output_type": "stream",
     "text": [
      "hELLO mY nAME iS peter\n"
     ]
    }
   ],
   "source": [
    "txt = \"Hello My Name Is PETER\"\n",
    "x = txt.swapcase()\n",
    "print(x)"
   ]
  },
  {
   "cell_type": "code",
   "execution_count": 51,
   "metadata": {},
   "outputs": [
    {
     "name": "stdout",
     "output_type": "stream",
     "text": [
      "Python is Outstanding\t:)\n",
      "\t\n",
      "\tPython is Outstanding\t:)\n",
      "The Original String: \t\n",
      "\tPython is Outstanding\t:)\n",
      "With strip method: Python is Outstanding\t:)\n"
     ]
    }
   ],
   "source": [
    "#Demo of using strip method\n",
    "str_a = \"\\t\\n\\tPython is Outstanding\\t:)\"\n",
    "str_b = str_a.strip()\n",
    "print(str_a.lstrip())\n",
    "print(str_a.rstrip())\n",
    "print(\"The Original String:\", str_a)\n",
    "print(\"With strip method:\", str_b)"
   ]
  },
  {
   "cell_type": "code",
   "execution_count": 71,
   "metadata": {},
   "outputs": [
    {
     "ename": "AttributeError",
     "evalue": "module 'string' has no attribute 'upper'",
     "output_type": "error",
     "traceback": [
      "\u001b[1;31m---------------------------------------------------------------------------\u001b[0m",
      "\u001b[1;31mAttributeError\u001b[0m                            Traceback (most recent call last)",
      "\u001b[1;32mc:\\Users\\0x4C3DD\\Desktop\\Codes\\Sem4_MAIS\\PP\\01.ipynb Cell 20'\u001b[0m in \u001b[0;36m<module>\u001b[1;34m\u001b[0m\n\u001b[0;32m      <a href='vscode-notebook-cell:/c%3A/Users/0x4C3DD/Desktop/Codes/Sem4_MAIS/PP/01.ipynb#ch0000020?line=0'>1</a>\u001b[0m \u001b[39mimport\u001b[39;00m \u001b[39mstring\u001b[39;00m\n\u001b[0;32m      <a href='vscode-notebook-cell:/c%3A/Users/0x4C3DD/Desktop/Codes/Sem4_MAIS/PP/01.ipynb#ch0000020?line=1'>2</a>\u001b[0m text \u001b[39m=\u001b[39m \u001b[39m\"\u001b[39m\u001b[39mMonty Python\u001b[39m\u001b[39m'\u001b[39m\u001b[39ms Flying Circus\u001b[39m\u001b[39m\"\u001b[39m\n\u001b[1;32m----> <a href='vscode-notebook-cell:/c%3A/Users/0x4C3DD/Desktop/Codes/Sem4_MAIS/PP/01.ipynb#ch0000020?line=2'>3</a>\u001b[0m \u001b[39mprint\u001b[39m (\u001b[39m\"\u001b[39m\u001b[39mupper\u001b[39m\u001b[39m\"\u001b[39m, \u001b[39m\"\u001b[39m\u001b[39m=>\u001b[39m\u001b[39m\"\u001b[39m, string\u001b[39m.\u001b[39;49mupper(text))\n\u001b[0;32m      <a href='vscode-notebook-cell:/c%3A/Users/0x4C3DD/Desktop/Codes/Sem4_MAIS/PP/01.ipynb#ch0000020?line=3'>4</a>\u001b[0m \u001b[39mprint\u001b[39m (\u001b[39m\"\u001b[39m\u001b[39mlower\u001b[39m\u001b[39m\"\u001b[39m, \u001b[39m\"\u001b[39m\u001b[39m=>\u001b[39m\u001b[39m\"\u001b[39m, string\u001b[39m.\u001b[39mlower(text))\n\u001b[0;32m      <a href='vscode-notebook-cell:/c%3A/Users/0x4C3DD/Desktop/Codes/Sem4_MAIS/PP/01.ipynb#ch0000020?line=4'>5</a>\u001b[0m \u001b[39mprint\u001b[39m (\u001b[39m\"\u001b[39m\u001b[39msplit\u001b[39m\u001b[39m\"\u001b[39m, \u001b[39m\"\u001b[39m\u001b[39m=>\u001b[39m\u001b[39m\"\u001b[39m, string\u001b[39m.\u001b[39msplit(text))\n",
      "\u001b[1;31mAttributeError\u001b[0m: module 'string' has no attribute 'upper'"
     ]
    }
   ],
   "source": [
    "\n",
    "import string\n",
    "text = \"Monty Python's Flying Circus\"\n",
    "print (\"upper\", \"=>\", string.upper(text))\n",
    "print (\"lower\", \"=>\", string.lower(text))\n",
    "print (\"split\", \"=>\", string.split(text))\n",
    "print (\"join\", \"=>\", string.join(string.split(text), \"+\"))\n",
    "print (\"replace\", \"=>\", string.replace(text, \"Python\", \"Java\"))\n",
    "print (\"find\", \"=>\", string.find(text, \"Python\"), string.find(text, \"Java\"))\n",
    "print (\"count\", \"=>\", string.count(text, \"n\"))\n",
    "str=\"python\"\n",
    "Txt=\" programming\"\n",
    "str.join(Txt) #Python Programming"
   ]
  },
  {
   "cell_type": "code",
   "execution_count": 72,
   "metadata": {},
   "outputs": [
    {
     "name": "stdout",
     "output_type": "stream",
     "text": [
      "A list: [1, 2, 3]\n"
     ]
    }
   ],
   "source": [
    "#This prints out: A list: [1, 2, 3]\n",
    "mylist = [1,2,3]\n",
    "print(\"A list: %s\" % mylist)"
   ]
  },
  {
   "cell_type": "code",
   "execution_count": 77,
   "metadata": {},
   "outputs": [
    {
     "name": "stdout",
     "output_type": "stream",
     "text": [
      "John is 23 years old.\n"
     ]
    }
   ],
   "source": [
    "# This prints out \"John is 23 years old.“\n",
    "name = \"John\"\n",
    "age = 23\n",
    "print(\"%s is %d years old.\" %  (name, age))"
   ]
  },
  {
   "cell_type": "code",
   "execution_count": 67,
   "metadata": {},
   "outputs": [
    {
     "name": "stdout",
     "output_type": "stream",
     "text": [
      "True\n"
     ]
    }
   ],
   "source": [
    "txt = \"hello world!\"\n",
    "x = txt.islower()\n",
    "print(x)"
   ]
  },
  {
   "cell_type": "code",
   "execution_count": 98,
   "metadata": {},
   "outputs": [
    {
     "name": "stdout",
     "output_type": "stream",
     "text": [
      "one two\n",
      "one two\n",
      "test      \n",
      "+42\n"
     ]
    }
   ],
   "source": [
    "print('{} {}'.format('one', 'two'))\n",
    "print('%s %s' % ('one', 'two'))\n",
    "print('{:<10s}'.format('test'))\n",
    "print('{:+d}'.format(42))"
   ]
  },
  {
   "cell_type": "code",
   "execution_count": 99,
   "metadata": {},
   "outputs": [
    {
     "name": "stdout",
     "output_type": "stream",
     "text": [
      "search starts at position 0 and ends at postion 1\n",
      "search starts at position 3 and ends at postion 4\n"
     ]
    }
   ],
   "source": [
    "import re\n",
    "\n",
    "#searching digits;only 1st occurence of match is returned\n",
    "txt = \"012st\"\n",
    "x = re.search(\"\\d\",txt)\n",
    "print(\"search starts at position\",x.start(),\"and ends at postion\",x.end()) #returns span position of search start and end\n",
    "\n",
    "x = re.search(\"\\D\",txt) #returns match on first occurence of a character i.e. not a digit\n",
    "print(\"search starts at position\",x.start(),\"and ends at postion\",x.end()) #returns span position of search start and end\n"
   ]
  }
 ],
 "metadata": {
  "interpreter": {
   "hash": "5447b09a4ff3ebd6c5a4601285af87d5ad8c9cc49e741f74422c9f2596cbca0a"
  },
  "kernelspec": {
   "display_name": "Python 3.10.2 64-bit (windows store)",
   "language": "python",
   "name": "python3"
  },
  "language_info": {
   "codemirror_mode": {
    "name": "ipython",
    "version": 3
   },
   "file_extension": ".py",
   "mimetype": "text/x-python",
   "name": "python",
   "nbconvert_exporter": "python",
   "pygments_lexer": "ipython3",
   "version": "3.10.2"
  },
  "orig_nbformat": 4
 },
 "nbformat": 4,
 "nbformat_minor": 2
}
